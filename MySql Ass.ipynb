{
 "cells": [
  {
   "cell_type": "markdown",
   "id": "8a9437ec-177e-4f71-9e92-b421521f5dac",
   "metadata": {},
   "source": [
    "Q1. What is a database? Differentiate between SQL and NoSQL databases."
   ]
  },
  {
   "cell_type": "markdown",
   "id": "957772e8-8980-4c3f-988b-296c8f0273c4",
   "metadata": {},
   "source": [
    "An organised group of data that can be viewed, maintained, and updated is known as a database. There are two types of databases: SQL and NoSQL. Since SQL databases are table-based, they are better suited for systems that were created in the past for a relational structure or for multi-row transactions, such accounting systems. Contrarily, NoSQL databases are either document-based, graph databases, wide-column stores, or key-value pair stores. They have unstructured data, which prevents preexisting models from being used to analyse it."
   ]
  },
  {
   "cell_type": "markdown",
   "id": "2f7b073f-bb36-46a5-9920-2bc2b64c4c49",
   "metadata": {},
   "source": [
    "Q2. What is DDL? Explain why CREATE, DROP, ALTER, and TRUNCATE are used with an example."
   ]
  },
  {
   "cell_type": "markdown",
   "id": "16b69888-b258-4c16-a217-17c2d7f20985",
   "metadata": {},
   "source": [
    "Data Definition Language is what it stands for. In order to define the database schema, it is used. SQL uses DDL commands such as CREATE, DROP, ALTER, and TRUNCATE. To create a new database or table, use the CREATE command. A table or database can be deleted with the DROP command. A database or table's structure can be changed using the ALTER command. To eliminate all records from a table, use TRUNCATE.\n"
   ]
  },
  {
   "cell_type": "code",
   "execution_count": null,
   "id": "7250ce0f-d8c4-4993-abe0-c64cf8b5fb61",
   "metadata": {},
   "outputs": [],
   "source": [
    "CREATE TABLE Employees (ID INT,Name VARCHAR(50),Salary DECIMAL(10, 2));\n",
    "DROP TABLE Employees;\n",
    "ALTER TABLE Employees\n",
    "ADD Department VARCHAR(50);\n",
    "TRUNCATE TABLE Employees;"
   ]
  },
  {
   "cell_type": "markdown",
   "id": "fb069fc6-201f-48df-99d2-bc898fa4fcd8",
   "metadata": {},
   "source": [
    "Q3. What is DML? Explain INSERT, UPDATE, and DELETE with an example."
   ]
  },
  {
   "cell_type": "markdown",
   "id": "ad311198-2efd-4a85-bf62-23e57a40251e",
   "metadata": {},
   "source": [
    "DML stands for Data Manipulation Language. It is used to manipulate data in a database. DML commands include INSERT, UPDATE, and DELETE.\n",
    "\n",
    "- INSERT: It is used to add new rows or records in the existing table. For example, if you want to add a new student record in the student table, you can use the following command:\n",
    "\n",
    "```sql\n",
    "INSERT INTO student (id, name, age) VALUES (1, 'John', 20);\n",
    "```\n",
    "\n",
    "- UPDATE: It is used to change the existing values of the column. For example, if you want to update the age of John from 20 to 21 in the student table, you can use the following command:\n",
    "\n",
    "```sql\n",
    "UPDATE student SET age = 21 WHERE name = 'John';\n",
    "```\n",
    "\n",
    "- DELETE: It is used to delete table rows based on the specified conditions. For example, if you want to delete all records of students who are older than 25 years from the student table, you can use the following command:\n",
    "\n",
    "```sql\n",
    "DELETE FROM student WHERE age > 25;\n",
    "```\n"
   ]
  },
  {
   "cell_type": "markdown",
   "id": "fc0ffaf6-8b7d-4ca8-8761-02e66ea3b9b5",
   "metadata": {},
   "source": [
    "Q4. What is DQL? Explain SELECT with an example."
   ]
  },
  {
   "cell_type": "markdown",
   "id": "4b91eb12-0e98-4417-ad06-78894fddf739",
   "metadata": {},
   "source": [
    "DQL stands for Data Query Language. It is used to retrieve data from a database. DQL has only one command: SELECT.\n",
    "\n",
    "The SELECT command is used to retrieve data from one or more tables in a database. For example, if you want to retrieve all the data from the employee table, you can use the following command:\n",
    "\n",
    "```sql\n",
    "SELECT * FROM employee;\n",
    "```\n",
    "\n",
    "This command will retrieve all columns and all rows from the table.\n",
    "\n",
    "You can also select specific fields from one or more tables, sort and group results, create column and table aliases, and use filters to narrow down the results of a search³.\n",
    "\n"
   ]
  },
  {
   "cell_type": "markdown",
   "id": "23de2d9d-5794-4956-b6ab-edf7ac801606",
   "metadata": {},
   "source": [
    "Q5. Explain Primary Key and Foreign Key."
   ]
  },
  {
   "cell_type": "markdown",
   "id": "da1ed7d9-4362-4bc2-ad3a-a2c9c4465f87",
   "metadata": {},
   "source": [
    "An individual row in a table is uniquely identified by a column or collection of columns known as the primary key. It is employed to protect data integrity and guarantee that every table row is distinct. For instance, the primary key for a student table may be the student ID.\n",
    "\n",
    "A column or group of columns in one table that refers to the primary key in another table is known as a foreign key. It is utilised to enforce referential integrity between two tables by connecting them together. For instance, if you have a student table and a course table, you may link the student table to the course table by using the student ID as the foreign key."
   ]
  },
  {
   "cell_type": "markdown",
   "id": "19a4c8c3-e0c4-4bdf-9e64-7b7e13d1f262",
   "metadata": {},
   "source": [
    "Q6. Write a python code to connect MySQL to python. Explain the cursor() and execute() method.\n",
    "\n",
    "The cursor() method creates a cursor object which is used to execute SQL statements. The execute() method executes an SQL statement. In the example above, the SQL statement is “SELECT * FROM customers”. The fetchall() method fetches all rows from the last executed statement."
   ]
  },
  {
   "cell_type": "code",
   "execution_count": 6,
   "id": "6eabc375-1cbf-47c5-a658-f917e93f3386",
   "metadata": {},
   "outputs": [],
   "source": [
    "import mysql.connector\n",
    "\n",
    "mydb = mysql.connector.connect(\n",
    "  host=\"localhost\",\n",
    "  user=\"yourusername\",\n",
    "  password=\"yourpassword\",\n",
    "  database=\"mydatabase\"\n",
    ")\n",
    "\n",
    "mycursor = mydb.cursor()\n",
    "\n",
    "mycursor.execute(\"SELECT * FROM customers\")\n",
    "\n",
    "myresult = mycursor.fetchall()\n",
    "\n",
    "for x in myresult:\n",
    "  print(x)\n"
   ]
  },
  {
   "cell_type": "markdown",
   "id": "83a725de-2616-4b6c-843d-3a4f1194069a",
   "metadata": {},
   "source": [
    "Q7. Give the order of execution of SQL clauses in an SQL query."
   ]
  },
  {
   "cell_type": "markdown",
   "id": "215bf811-650a-43d2-ba40-4f1c83708f37",
   "metadata": {},
   "source": [
    "The order of execution of SQL clauses in an SQL query is as follows:\n",
    "\n",
    "FROM clause,\n",
    "JOIN clause\n",
    "ON clause\n",
    "OUTER clause,\n",
    "WHERE clause,\n",
    "GROUP BY clause,\n",
    "HAVING clause,\n",
    "SELECT clause,\n",
    "DISTINCT clause,\n",
    "ORDER BY clause,\n",
    "TOP clause,"
   ]
  }
 ],
 "metadata": {
  "kernelspec": {
   "display_name": "Python 3 (ipykernel)",
   "language": "python",
   "name": "python3"
  },
  "language_info": {
   "codemirror_mode": {
    "name": "ipython",
    "version": 3
   },
   "file_extension": ".py",
   "mimetype": "text/x-python",
   "name": "python",
   "nbconvert_exporter": "python",
   "pygments_lexer": "ipython3",
   "version": "3.10.8"
  }
 },
 "nbformat": 4,
 "nbformat_minor": 5
}
